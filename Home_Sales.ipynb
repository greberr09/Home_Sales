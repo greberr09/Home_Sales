{
 "cells": [
  {
   "cell_type": "code",
   "execution_count": 1,
   "metadata": {
    "colab": {
     "base_uri": "https://localhost:8080/"
    },
    "id": "a_KW73O2e3dw",
    "outputId": "fa5fd2b3-e2de-491b-ee1c-405317ba7ebc"
   },
   "outputs": [],
   "source": [
    "# Import findspark and initialize. \n",
    "import findspark\n",
    "findspark.init()"
   ]
  },
  {
   "cell_type": "code",
   "execution_count": 2,
   "metadata": {},
   "outputs": [],
   "source": [
    "# Import packages\n",
    "from pyspark.sql import SparkSession\n",
    "import time\n",
    "\n",
    "from pyspark import SparkFiles\n",
    "\n",
    "from pyspark.sql.functions import *\n",
    "from pyspark.sql.functions import count, mean, min, max\n",
    "from pyspark.sql.functions import month, year\n",
    "from pyspark.sql.functions import date_format\n",
    "from pyspark.sql.types import IntegerType, DoubleType, StructType, StructField, StringType, DateType"
   ]
  },
  {
   "cell_type": "code",
   "execution_count": 22,
   "metadata": {
    "id": "2XbWNf1Te5fM"
   },
   "outputs": [],
   "source": [
    "# Create a SparkSession\n",
    "\n",
    "spark = SparkSession.builder\\\n",
    "    .appName(\"SparkSQL\")\\\n",
    "    .config(\"spark.sql.debug.maxToStringFields\", 2000)\\\n",
    "    .config(\"spark.driver.memory\", \"2g\")\\\n",
    "    .getOrCreate()\n",
    "\n",
    "# Set the partitions to 4 or 8. \n",
    "spark.conf.set(\"spark.sql.shuffle.partitions\", 8)"
   ]
  },
  {
   "cell_type": "code",
   "execution_count": 4,
   "metadata": {
    "colab": {
     "base_uri": "https://localhost:8080/"
    },
    "id": "wOJqxG_RPSwp",
    "outputId": "7857ef9f-5b04-405d-f5aa-e535dfe7870c",
    "scrolled": true
   },
   "outputs": [
    {
     "name": "stdout",
     "output_type": "stream",
     "text": [
      "+--------------------+----------+----------+------+--------+---------+-----------+--------+------+----------+----+\n",
      "|                  id|      date|date_built| price|bedrooms|bathrooms|sqft_living|sqft_lot|floors|waterfront|view|\n",
      "+--------------------+----------+----------+------+--------+---------+-----------+--------+------+----------+----+\n",
      "|f8a53099-ba1c-47d...|2022-04-08|      2016|936923|       4|        3|       3167|   11733|     2|         1|  76|\n",
      "|7530a2d8-1ae3-451...|2021-06-13|      2013|379628|       2|        2|       2235|   14384|     1|         0|  23|\n",
      "|43de979c-0bf0-4c9...|2019-04-12|      2014|417866|       2|        2|       2127|   10575|     2|         0|   0|\n",
      "|b672c137-b88c-48b...|2019-10-16|      2016|239895|       2|        2|       1631|   11149|     2|         0|   0|\n",
      "|e0726d4d-d595-407...|2022-01-08|      2017|424418|       3|        2|       2249|   13878|     2|         0|   4|\n",
      "|5aa00529-0533-46b...|2019-01-30|      2017|218712|       2|        3|       1965|   14375|     2|         0|   7|\n",
      "|131492a1-72e2-4a8...|2020-02-08|      2017|419199|       2|        3|       2062|    8876|     2|         0|   6|\n",
      "|8d54a71b-c520-44e...|2019-07-21|      2010|323956|       2|        3|       1506|   11816|     1|         0|  25|\n",
      "|e81aacfe-17fe-46b...|2020-06-16|      2016|181925|       3|        3|       2137|   11709|     2|         0|  22|\n",
      "|2ed8d509-7372-46d...|2021-08-06|      2015|258710|       3|        3|       1918|    9666|     1|         0|  25|\n",
      "|f876d86f-3c9f-42b...|2019-02-27|      2011|167864|       3|        3|       2471|   13924|     2|         0|  15|\n",
      "|0a2bd445-8508-4d8...|2021-12-30|      2014|337527|       2|        3|       1926|   12556|     1|         0|  23|\n",
      "|941bad30-eb49-4a7...|2020-05-09|      2015|229896|       3|        3|       2197|    8641|     1|         0|   3|\n",
      "|dd61eb34-6589-4c0...|2021-07-25|      2016|210247|       3|        2|       1672|   11986|     2|         0|  28|\n",
      "|f1e4cef7-d151-439...|2019-02-01|      2011|398667|       2|        3|       2331|   11356|     1|         0|   7|\n",
      "|ea620c7b-c2f7-4c6...|2021-05-31|      2011|437958|       3|        3|       2356|   11052|     1|         0|  26|\n",
      "|f233cb41-6f33-4b0...|2021-07-18|      2016|437375|       4|        3|       1704|   11721|     2|         0|  34|\n",
      "|c797ca12-52cd-4b1...|2019-06-08|      2015|288650|       2|        3|       2100|   10419|     2|         0|   7|\n",
      "|0cfe57f3-28c2-472...|2019-10-04|      2015|308313|       3|        3|       1960|    9453|     2|         0|   2|\n",
      "|4566cd2a-ac6e-435...|2019-07-15|      2016|177541|       3|        3|       2130|   10517|     2|         0|  25|\n",
      "+--------------------+----------+----------+------+--------+---------+-----------+--------+------+----------+----+\n",
      "only showing top 20 rows\n",
      "\n"
     ]
    },
    {
     "data": {
      "text/plain": [
       "DataFrame[id: string, date: string, date_built: string, price: string, bedrooms: string, bathrooms: string, sqft_living: string, sqft_lot: string, floors: string, waterfront: string, view: string]"
      ]
     },
     "metadata": {},
     "output_type": "display_data"
    }
   ],
   "source": [
    "# 1. Read in the AWS S3 bucket into a DataFrame.\n",
    "\n",
    "homes_url = \"https://2u-data-curriculum-team.s3.amazonaws.com/dataviz-classroom/v1.2/22-big-data/home_sales_revised.csv\"\n",
    "\n",
    "# Read in data from s3 bucket\n",
    "\n",
    "spark.sparkContext.addFile(homes_url)\n",
    "home_sales_df = spark.read.csv(SparkFiles.get(\"home_sales_revised.csv\"), sep=\",\", header=True)\n",
    "\n",
    "# Show the home sales data.\n",
    "home_sales_df.show()\n",
    "\n",
    "display(home_sales_df)"
   ]
  },
  {
   "cell_type": "code",
   "execution_count": 5,
   "metadata": {},
   "outputs": [
    {
     "name": "stdout",
     "output_type": "stream",
     "text": [
      "root\n",
      " |-- id: string (nullable = true)\n",
      " |-- date: string (nullable = true)\n",
      " |-- date_built: string (nullable = true)\n",
      " |-- price: string (nullable = true)\n",
      " |-- bedrooms: string (nullable = true)\n",
      " |-- bathrooms: string (nullable = true)\n",
      " |-- sqft_living: string (nullable = true)\n",
      " |-- sqft_lot: string (nullable = true)\n",
      " |-- floors: string (nullable = true)\n",
      " |-- waterfront: string (nullable = true)\n",
      " |-- view: string (nullable = true)\n",
      "\n"
     ]
    }
   ],
   "source": [
    "# display the schema\n",
    "home_sales_df.printSchema()"
   ]
  },
  {
   "cell_type": "code",
   "execution_count": 6,
   "metadata": {},
   "outputs": [
    {
     "name": "stdout",
     "output_type": "stream",
     "text": [
      "root\n",
      " |-- id: string (nullable = true)\n",
      " |-- date: date (nullable = true)\n",
      " |-- date_built: integer (nullable = true)\n",
      " |-- price: double (nullable = true)\n",
      " |-- bedrooms: integer (nullable = true)\n",
      " |-- bathrooms: integer (nullable = true)\n",
      " |-- sqft_living: double (nullable = true)\n",
      " |-- sqft_lot: double (nullable = true)\n",
      " |-- floors: integer (nullable = true)\n",
      " |-- waterfront: integer (nullable = true)\n",
      " |-- view: integer (nullable = true)\n",
      "\n"
     ]
    }
   ],
   "source": [
    "# format datatypes\n",
    "home_sales_df = home_sales_df.withColumn(\"bedrooms\", home_sales_df[\"bedrooms\"].cast(IntegerType()))\n",
    "home_sales_df = home_sales_df.withColumn(\"bathrooms\", home_sales_df[\"bathrooms\"].cast(IntegerType()))\n",
    "home_sales_df = home_sales_df.withColumn(\"floors\", home_sales_df[\"floors\"].cast(IntegerType()))\n",
    "home_sales_df = home_sales_df.withColumn(\"waterfront\", home_sales_df[\"waterfront\"].cast(IntegerType()))\n",
    "home_sales_df = home_sales_df.withColumn(\"view\", home_sales_df[\"view\"].cast(IntegerType()))\n",
    "home_sales_df = home_sales_df.withColumn(\"price\", home_sales_df[\"price\"].cast(DoubleType()))\n",
    "home_sales_df = home_sales_df.withColumn(\"sqft_living\", home_sales_df[\"sqft_living\"].cast(DoubleType()))\n",
    "home_sales_df = home_sales_df.withColumn(\"sqft_lot\", home_sales_df[\"sqft_lot\"].cast(DoubleType()))\n",
    "home_sales_df = home_sales_df.withColumn(\"date\", to_date(home_sales_df[\"date\"], \"yyyy-mm-dd\"))\n",
    "home_sales_df = home_sales_df.withColumn(\"date_built\", year(home_sales_df[\"date_built\"]))\n",
    "\n",
    "# check results\n",
    "home_sales_df.printSchema()"
   ]
  },
  {
   "cell_type": "code",
   "execution_count": 7,
   "metadata": {
    "id": "RoljcJ7WPpnm"
   },
   "outputs": [],
   "source": [
    "# 2. Create a temporary view of the DataFrame.\n",
    "\n",
    "home_sales_df.createOrReplaceTempView('home_sales')\n"
   ]
  },
  {
   "cell_type": "code",
   "execution_count": 8,
   "metadata": {
    "colab": {
     "base_uri": "https://localhost:8080/"
    },
    "id": "L6fkwOeOmqvq",
    "outputId": "bdded620-79c4-488d-c7a5-91c6799c419e"
   },
   "outputs": [
    {
     "name": "stdout",
     "output_type": "stream",
     "text": [
      "+---------+-------------+\n",
      "|year_sold|average_price|\n",
      "+---------+-------------+\n",
      "|     2019|    300,263.7|\n",
      "|     2020|   298,353.78|\n",
      "|     2021|   301,819.44|\n",
      "|     2022|   296,363.88|\n",
      "+---------+-------------+\n",
      "\n"
     ]
    }
   ],
   "source": [
    "# 3. What is the average price for a four bedroom house sold in each year rounded to two decimal places?\n",
    "\n",
    "spark.sql(\"\"\"select year(date) as year_sold, format_number(mean(price), '#,###.##') as average_price \n",
    "from home_sales \n",
    "where bedrooms = 4 \n",
    "group by 1 \n",
    "sort by year_sold\"\"\").show()\n"
   ]
  },
  {
   "cell_type": "code",
   "execution_count": 9,
   "metadata": {
    "colab": {
     "base_uri": "https://localhost:8080/"
    },
    "id": "l8p_tUS8h8it",
    "outputId": "65806e5f-6262-41c0-ff65-5107464e5c4d"
   },
   "outputs": [
    {
     "name": "stdout",
     "output_type": "stream",
     "text": [
      "+----------+-------------+\n",
      "|date_built|average_price|\n",
      "+----------+-------------+\n",
      "|      2010|   292,859.62|\n",
      "|      2011|   291,117.47|\n",
      "|      2012|   293,683.19|\n",
      "|      2013|   295,962.27|\n",
      "|      2014|   290,852.27|\n",
      "|      2015|    288,770.3|\n",
      "|      2016|   290,555.07|\n",
      "|      2017|   292,676.79|\n",
      "+----------+-------------+\n",
      "\n"
     ]
    }
   ],
   "source": [
    "# 4. What is the average price of a home for each year the home was built that have 3 bedrooms and 3 bathrooms rounded to two decimal places?\n",
    "\n",
    "spark.sql(\"\"\"select date_built, format_number(mean(price), '#,###.##') as average_price \n",
    "from home_sales \n",
    "where bedrooms = 3 AND bathrooms = 3 \n",
    "group by 1 \n",
    "sort by date_built\"\"\").show()\n"
   ]
  },
  {
   "cell_type": "code",
   "execution_count": 10,
   "metadata": {
    "colab": {
     "base_uri": "https://localhost:8080/"
    },
    "id": "Y-Eytz64liDU",
    "outputId": "17119810-56ad-40c3-de5e-c3db57e43bcc"
   },
   "outputs": [
    {
     "name": "stdout",
     "output_type": "stream",
     "text": [
      "+----------+-------------+\n",
      "|date_built|average_price|\n",
      "+----------+-------------+\n",
      "|      2010|   285,010.22|\n",
      "|      2011|   276,553.81|\n",
      "|      2012|   307,539.97|\n",
      "|      2013|   303,676.79|\n",
      "|      2014|   298,264.72|\n",
      "|      2015|   297,609.97|\n",
      "|      2016|    293,965.1|\n",
      "|      2017|   280,317.58|\n",
      "+----------+-------------+\n",
      "\n"
     ]
    }
   ],
   "source": [
    "#  5. What is the average price of a home for each year built that have 3 bedrooms, 3 bathrooms, with two floors,\n",
    "# and are greater than or equal to 2,000 square feet rounded to two decimal places?\n",
    "\n",
    "spark.sql(\"\"\"select date_built, format_number(mean(price), '#,###.##') as average_price \n",
    "from home_sales \n",
    "where bedrooms = 3 AND bathrooms = 3 AND floors = 2 and sqft_living >= 2000\n",
    "group by 1 \n",
    "sort by date_built\"\"\").show()\n"
   ]
  },
  {
   "cell_type": "code",
   "execution_count": 11,
   "metadata": {
    "colab": {
     "base_uri": "https://localhost:8080/"
    },
    "id": "GUrfgOX1pCRd",
    "outputId": "17c25774-855e-4290-a4bd-a04902bdc13a"
   },
   "outputs": [
    {
     "name": "stdout",
     "output_type": "stream",
     "text": [
      "+----+-------------+\n",
      "|view|average_price|\n",
      "+----+-------------+\n",
      "| 100|  1,026,669.5|\n",
      "|  99| 1,061,201.42|\n",
      "|  98| 1,053,739.33|\n",
      "|  97| 1,129,040.15|\n",
      "|  96| 1,017,815.92|\n",
      "|  95|  1,054,325.6|\n",
      "|  94|  1,033,536.2|\n",
      "|  93| 1,026,006.06|\n",
      "|  92|   970,402.55|\n",
      "|  91| 1,137,372.73|\n",
      "|  90| 1,062,654.16|\n",
      "|  89| 1,107,839.15|\n",
      "|  88| 1,031,719.35|\n",
      "|  87|  1,072,285.2|\n",
      "|  86| 1,070,444.25|\n",
      "|  85| 1,056,336.74|\n",
      "|  84| 1,117,233.13|\n",
      "|  83| 1,033,965.93|\n",
      "|  82|    1,063,498|\n",
      "|  81| 1,053,472.79|\n",
      "+----+-------------+\n",
      "only showing top 20 rows\n",
      "\n",
      "--- 0.410900354385376 seconds ---\n"
     ]
    }
   ],
   "source": [
    "# 6. What is the \"view\" rating for the average price of a home, rounded to two decimal places, where the homes are greater than\n",
    "# or equal to $350,000? Although this is a small dataset, determine the run time for this query.\n",
    "\n",
    "start_time = time.time()\n",
    "\n",
    "spark.sql(\"\"\"select view, format_number(mean(price), '#,###.##') as average_price \n",
    "from home_sales \n",
    "where price >= 350000\n",
    "group by 1 \n",
    "sort by view desc\"\"\").show()\n",
    "\n",
    "print(\"--- %s seconds ---\" % (time.time() - start_time))"
   ]
  },
  {
   "cell_type": "code",
   "execution_count": 12,
   "metadata": {
    "colab": {
     "base_uri": "https://localhost:8080/"
    },
    "id": "KAhk3ZD2tFy8",
    "outputId": "0a8f132d-40a8-4bd4-b5f2-2847e98427f5"
   },
   "outputs": [
    {
     "data": {
      "text/plain": [
       "DataFrame[]"
      ]
     },
     "execution_count": 12,
     "metadata": {},
     "output_type": "execute_result"
    }
   ],
   "source": [
    "# 7. Cache the temporary table home_sales.\n",
    "\n",
    "spark.sql(\"cache table home_sales\")"
   ]
  },
  {
   "cell_type": "code",
   "execution_count": 13,
   "metadata": {
    "colab": {
     "base_uri": "https://localhost:8080/"
    },
    "id": "4opVhbvxtL-i",
    "outputId": "38ec8487-795f-4550-b50c-fcc6f2b7c769"
   },
   "outputs": [
    {
     "data": {
      "text/plain": [
       "True"
      ]
     },
     "execution_count": 13,
     "metadata": {},
     "output_type": "execute_result"
    }
   ],
   "source": [
    "# 8. Check if the table is cached.\n",
    "spark.catalog.isCached('home_sales')"
   ]
  },
  {
   "cell_type": "code",
   "execution_count": 14,
   "metadata": {
    "colab": {
     "base_uri": "https://localhost:8080/"
    },
    "id": "5GnL46lwTSEk",
    "outputId": "09a16c73-194d-4371-95d1-ee64fe83b91c"
   },
   "outputs": [
    {
     "name": "stdout",
     "output_type": "stream",
     "text": [
      "+----+-------------+\n",
      "|view|average_price|\n",
      "+----+-------------+\n",
      "| 100|  1,026,669.5|\n",
      "|  99| 1,061,201.42|\n",
      "|  98| 1,053,739.33|\n",
      "|  97| 1,129,040.15|\n",
      "|  96| 1,017,815.92|\n",
      "|  95|  1,054,325.6|\n",
      "|  94|  1,033,536.2|\n",
      "|  93| 1,026,006.06|\n",
      "|  92|   970,402.55|\n",
      "|  91| 1,137,372.73|\n",
      "|  90| 1,062,654.16|\n",
      "|  89| 1,107,839.15|\n",
      "|  88| 1,031,719.35|\n",
      "|  87|  1,072,285.2|\n",
      "|  86| 1,070,444.25|\n",
      "|  85| 1,056,336.74|\n",
      "|  84| 1,117,233.13|\n",
      "|  83| 1,033,965.93|\n",
      "|  82|    1,063,498|\n",
      "|  81| 1,053,472.79|\n",
      "+----+-------------+\n",
      "only showing top 20 rows\n",
      "\n",
      "--- 0.24933195114135742 seconds ---\n"
     ]
    }
   ],
   "source": [
    "# 9. Using the cached data, run the query that filters out the view ratings with average price \n",
    "#  greater than or equal to $350,000. Determine the runtime and compare it to uncached runtime.\n",
    "\n",
    "start_time = time.time()\n",
    "\n",
    "spark.sql(\"\"\"select view, format_number(mean(price), '#,###.##') as average_price \n",
    "from home_sales \n",
    "where price >= 350000\n",
    "group by 1 \n",
    "sort by view desc\"\"\").show()\n",
    "\n",
    "print(\"--- %s seconds ---\" % (time.time() - start_time))\n"
   ]
  },
  {
   "cell_type": "code",
   "execution_count": 15,
   "metadata": {
    "id": "Qm12WN9isHBR"
   },
   "outputs": [
    {
     "name": "stdout",
     "output_type": "stream",
     "text": [
      "+----------+------------------------------------+----------+--------+--------+---------+-----------+--------+------+----------+----+\n",
      "|date_built|id                                  |date      |price   |bedrooms|bathrooms|sqft_living|sqft_lot|floors|waterfront|view|\n",
      "+----------+------------------------------------+----------+--------+--------+---------+-----------+--------+------+----------+----+\n",
      "|2010      |8d54a71b-c520-44e5-8ba1-5a84be03ad35|2019-01-21|323956.0|2       |3        |1506.0     |11816.0 |1     |0         |25  |\n",
      "|2010      |f5e01433-f7b0-44e5-96d9-1e190b721af5|2021-01-10|335326.0|4       |3        |1588.0     |14107.0 |1     |0         |8   |\n",
      "|2010      |15a5830f-1529-4c57-9030-495d706dda9d|2019-01-06|843191.0|3       |6        |5086.0     |14637.0 |2     |0         |91  |\n",
      "|2010      |63640c17-973d-4f59-9db6-992609006a22|2019-01-14|148400.0|2       |3        |2338.0     |11275.0 |2     |0         |5   |\n",
      "|2010      |209c1286-0834-4635-bf48-c84eead14852|2021-01-04|395178.0|3       |2        |1504.0     |9617.0  |2     |0         |37  |\n",
      "|2010      |bb2ff269-f08f-4e82-9698-a929cbf1ae4d|2022-01-06|429030.0|3       |3        |2049.0     |11882.0 |2     |0         |23  |\n",
      "|2010      |2d6d6575-aaf2-4ae9-8658-75ff75389cd7|2022-01-11|399296.0|2       |3        |2306.0     |8079.0  |1     |0         |50  |\n",
      "|2010      |a8673552-5c99-40d5-8909-65d6565eba21|2022-01-26|188992.0|4       |3        |2121.0     |8176.0  |1     |0         |24  |\n",
      "|2010      |7c79d1e1-d8c1-4c91-a51d-57d49a3259c4|2019-01-25|207040.0|3       |2        |2130.0     |10721.0 |2     |0         |4   |\n",
      "|2010      |4174271b-8234-4b6b-a3d5-6f8bfb664d6e|2022-01-25|310022.0|4       |3        |1732.0     |13145.0 |1     |0         |23  |\n",
      "|2010      |e69a029e-e93d-42aa-a9c3-ad855ff91c52|2022-01-31|202861.0|3       |3        |1573.0     |10212.0 |1     |0         |48  |\n",
      "|2010      |2792bb6d-ea02-4e2f-9270-764fdbf438bc|2021-01-09|360444.0|3       |3        |2383.0     |12503.0 |2     |0         |29  |\n",
      "|2010      |75b49f11-fa91-4f1d-8db4-a0841cd370a3|2019-01-14|136238.0|2       |2        |2096.0     |11393.0 |2     |0         |4   |\n",
      "|2010      |f305e381-e4ed-4095-8c65-f33acd48ca53|2020-01-07|228706.0|2       |2        |1565.0     |13901.0 |1     |0         |18  |\n",
      "|2010      |30e7c747-3b60-4abb-99ff-213fb516fab1|2022-01-02|249514.0|2       |2        |2429.0     |14998.0 |1     |0         |39  |\n",
      "|2010      |e91ea034-8164-44a8-9e0a-d5854b5c0d12|2020-01-14|182173.0|4       |2        |1938.0     |8964.0  |2     |0         |21  |\n",
      "|2010      |7aefac6d-67d9-44da-813d-0f907214e976|2022-01-22|128073.0|2       |2        |2096.0     |14835.0 |1     |0         |16  |\n",
      "|2010      |a0cdbd3e-a851-4f49-b37e-4211b0ee2aec|2021-01-03|292036.0|4       |2        |1559.0     |8204.0  |2     |0         |13  |\n",
      "|2010      |984b425b-0872-42eb-b158-d88619a8b7ed|2019-01-14|149853.0|3       |3        |2325.0     |9492.0  |1     |0         |36  |\n",
      "|2010      |944e8a2d-34a7-4f0b-95c6-33f1bece46d1|2019-01-25|267722.0|3       |2        |2394.0     |9689.0  |2     |0         |17  |\n",
      "+----------+------------------------------------+----------+--------+--------+---------+-----------+--------+------+----------+----+\n",
      "only showing top 20 rows\n",
      "\n"
     ]
    }
   ],
   "source": [
    "# 10. Partition by the \"date_built\" field on the formatted parquet home sales data \n",
    "\n",
    "spark.sql(\"\"\"select date_built, id, date, price, bedrooms, bathrooms, sqft_living, sqft_lot, floors, waterfront, view\n",
    "from home_sales \n",
    "sort by date_built\"\"\").show(truncate=False)\n",
    "\n",
    "home_sales_df.write.parquet('parquet_sales', mode='overwrite')"
   ]
  },
  {
   "cell_type": "code",
   "execution_count": 16,
   "metadata": {
    "id": "AZ7BgY61sRqY"
   },
   "outputs": [],
   "source": [
    "# 11. Read the formatted parquet data.\n",
    "\n",
    "p_home_sales_df=spark.read.parquet('parquet_sales')"
   ]
  },
  {
   "cell_type": "code",
   "execution_count": 17,
   "metadata": {
    "id": "J6MJkHfvVcvh"
   },
   "outputs": [],
   "source": [
    "# 12. Create a temporary table for the parquet data.\n",
    "\n",
    "p_home_sales_df.createOrReplaceTempView('p_home_sales')"
   ]
  },
  {
   "cell_type": "code",
   "execution_count": 18,
   "metadata": {
    "colab": {
     "base_uri": "https://localhost:8080/"
    },
    "id": "G_Vhb52rU1Sn",
    "outputId": "a0b8d0c4-55ed-4c6c-bfd8-4c8c5334838e"
   },
   "outputs": [
    {
     "name": "stdout",
     "output_type": "stream",
     "text": [
      "+----+-------------+\n",
      "|view|average_price|\n",
      "+----+-------------+\n",
      "| 100|  1,026,669.5|\n",
      "|  99| 1,061,201.42|\n",
      "|  98| 1,053,739.33|\n",
      "|  97| 1,129,040.15|\n",
      "|  96| 1,017,815.92|\n",
      "|  95|  1,054,325.6|\n",
      "|  94|  1,033,536.2|\n",
      "|  93| 1,026,006.06|\n",
      "|  92|   970,402.55|\n",
      "|  91| 1,137,372.73|\n",
      "|  90| 1,062,654.16|\n",
      "|  89| 1,107,839.15|\n",
      "|  88| 1,031,719.35|\n",
      "|  87|  1,072,285.2|\n",
      "|  86| 1,070,444.25|\n",
      "|  85| 1,056,336.74|\n",
      "|  84| 1,117,233.13|\n",
      "|  83| 1,033,965.93|\n",
      "|  82|    1,063,498|\n",
      "|  81| 1,053,472.79|\n",
      "+----+-------------+\n",
      "only showing top 20 rows\n",
      "\n",
      "--- 0.3899552822113037 seconds ---\n"
     ]
    }
   ],
   "source": [
    "# 13. Run the query that filters out the view ratings with average price of greater than or eqaul to $350,000 \n",
    "# with the parquet DataFrame. Round your average to two decimal places. \n",
    "# Determine the runtime and compare it to the cached version. \n",
    "\n",
    "start_time = time.time()\n",
    "\n",
    "spark.sql(\"\"\"select view, format_number(mean(price), '#,###.##') as average_price \n",
    "from p_home_sales \n",
    "where price >= 350000\n",
    "group by 1 \n",
    "sort by view desc\"\"\").show()\n",
    "\n",
    "print(\"--- %s seconds ---\" % (time.time() - start_time))"
   ]
  },
  {
   "cell_type": "code",
   "execution_count": 19,
   "metadata": {},
   "outputs": [
    {
     "name": "stdout",
     "output_type": "stream",
     "text": [
      "+----+-------------+\n",
      "|view|average_price|\n",
      "+----+-------------+\n",
      "| 100|  1,026,669.5|\n",
      "|  99| 1,061,201.42|\n",
      "|  98| 1,053,739.33|\n",
      "|  97| 1,129,040.15|\n",
      "|  96| 1,017,815.92|\n",
      "|  95|  1,054,325.6|\n",
      "|  94|  1,033,536.2|\n",
      "|  93| 1,026,006.06|\n",
      "|  92|   970,402.55|\n",
      "|  91| 1,137,372.73|\n",
      "|  90| 1,062,654.16|\n",
      "|  89| 1,107,839.15|\n",
      "|  88| 1,031,719.35|\n",
      "|  87|  1,072,285.2|\n",
      "|  86| 1,070,444.25|\n",
      "|  85| 1,056,336.74|\n",
      "|  84| 1,117,233.13|\n",
      "|  83| 1,033,965.93|\n",
      "|  82|    1,063,498|\n",
      "|  81| 1,053,472.79|\n",
      "+----+-------------+\n",
      "only showing top 20 rows\n",
      "\n",
      "--- 0.20246005058288574 seconds ---\n"
     ]
    }
   ],
   "source": [
    "# 13a. Running the view query a second time, as in our class examples, to \"eliminate the load time.\"\n",
    "start_time = time.time()\n",
    "\n",
    "spark.sql(\"\"\"select view, format_number(mean(price), '#,###.##') as average_price \n",
    "from p_home_sales \n",
    "where price >= 350000\n",
    "group by 1 \n",
    "sort by view desc\"\"\").show()\n",
    "\n",
    "print(\"--- %s seconds ---\" % (time.time() - start_time))"
   ]
  },
  {
   "cell_type": "markdown",
   "metadata": {},
   "source": [
    "#### With the load time eliminated, the parquet time of approximately 0.163976 seconds, above, is faster than the time to run the same query on the cached table, which is approximately 0.194511 seconds.  With a small data set, we expect that the differences will be small."
   ]
  },
  {
   "cell_type": "code",
   "execution_count": 20,
   "metadata": {
    "colab": {
     "base_uri": "https://localhost:8080/"
    },
    "id": "hjjYzQGjtbq8",
    "outputId": "830549fd-bb41-451b-9183-5ebf6e3e470b"
   },
   "outputs": [
    {
     "data": {
      "text/plain": [
       "DataFrame[]"
      ]
     },
     "execution_count": 20,
     "metadata": {},
     "output_type": "execute_result"
    }
   ],
   "source": [
    "# 14. Uncache the home_sales temporary table.\n",
    "\n",
    "spark.sql(\"uncache table home_sales\")"
   ]
  },
  {
   "cell_type": "code",
   "execution_count": 21,
   "metadata": {
    "colab": {
     "base_uri": "https://localhost:8080/"
    },
    "id": "Sy9NBvO7tlmm",
    "outputId": "be73e0e3-5e85-4794-aad9-025fb6fa84a7"
   },
   "outputs": [
    {
     "name": "stdout",
     "output_type": "stream",
     "text": [
      "All clear, cache removed\n"
     ]
    }
   ],
   "source": [
    "# 15. Check if the home_sales is no longer cached\n",
    "\n",
    "if spark.catalog.isCached(\"home_sales\"):\n",
    "  print(\"The home sales table is till cached\")\n",
    "else:\n",
    "  print(\"All clear, cache removed\")\n"
   ]
  }
 ],
 "metadata": {
  "colab": {
   "collapsed_sections": [],
   "name": "Copy of Home_Sales_solution.ipynb",
   "provenance": []
  },
  "kernelspec": {
   "display_name": "Python 3 (ipykernel)",
   "language": "python",
   "name": "python3"
  },
  "language_info": {
   "codemirror_mode": {
    "name": "ipython",
    "version": 3
   },
   "file_extension": ".py",
   "mimetype": "text/x-python",
   "name": "python",
   "nbconvert_exporter": "python",
   "pygments_lexer": "ipython3",
   "version": "3.9.16"
  },
  "nteract": {
   "version": "0.28.0"
  }
 },
 "nbformat": 4,
 "nbformat_minor": 1
}
